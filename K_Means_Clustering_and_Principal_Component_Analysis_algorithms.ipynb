{
  "nbformat": 4,
  "nbformat_minor": 0,
  "metadata": {
    "colab": {
      "provenance": []
    },
    "kernelspec": {
      "name": "python3",
      "display_name": "Python 3"
    },
    "language_info": {
      "name": "python"
    }
  },
  "cells": [
    {
      "cell_type": "code",
      "source": [
        "import numpy as np\n",
        "import pandas as pd\n",
        "import matplotlib.pyplot as plt\n"
      ],
      "metadata": {
        "id": "Fy-6cdG-ndSG"
      },
      "execution_count": 4,
      "outputs": []
    },
    {
      "cell_type": "code",
      "source": [
        "def preprocess_data(data):\n",
        "    # Remove the last column (Species) and store it in a separate variable\n",
        "    species = data.iloc[:, -1]\n",
        "    data = data.iloc[:, :-1]\n",
        "\n",
        "    # Perform any necessary preprocessing steps\n",
        "    # For example, handle missing values, convert categorical variables, etc.\n",
        "    # This function should return the preprocessed data and the species variable\n",
        "    # Example: Data normalization\n",
        "    data_normalized = (data - data.min()) / (data.max() - data.min())\n",
        "    return data_normalized, species\n"
      ],
      "metadata": {
        "id": "46x8mKlwnljv"
      },
      "execution_count": 5,
      "outputs": []
    },
    {
      "cell_type": "code",
      "source": [
        "def calculate_distance(x1, x2):\n",
        "    # Calculate the Euclidean distance between two data points\n",
        "    return np.sqrt(np.sum((x1 - x2) ** 2))\n"
      ],
      "metadata": {
        "id": "8sSzr90NnrUB"
      },
      "execution_count": 6,
      "outputs": []
    },
    {
      "cell_type": "code",
      "source": [
        "def initialize_centroids(data, k):\n",
        "    # Initialize the centroids randomly from the data points\n",
        "    indices = np.random.choice(len(data), k, replace=False)\n",
        "    centroids = data[indices]\n",
        "    return centroids"
      ],
      "metadata": {
        "id": "ctkHt39InvLh"
      },
      "execution_count": 7,
      "outputs": []
    },
    {
      "cell_type": "code",
      "source": [
        "def assign_clusters(data, centroids):\n",
        "    # Assign data points to the nearest centroid\n",
        "    clusters = np.zeros(len(data))\n",
        "\n",
        "    for i in range(len(data)):\n",
        "        distances = [calculate_distance(data[i], centroid) for centroid in centroids]\n",
        "        cluster = np.argmin(distances)\n",
        "        clusters[i] = cluster\n",
        "\n",
        "    return clusters"
      ],
      "metadata": {
        "id": "s4QzBjDBnzfq"
      },
      "execution_count": 8,
      "outputs": []
    },
    {
      "cell_type": "code",
      "source": [
        "def update_centroids(data, clusters, k):\n",
        "    # Update the centroids based on the mean of the data points in each cluster\n",
        "    centroids = np.zeros((k, data.shape[1]))\n",
        "\n",
        "    for cluster in range(k):\n",
        "        cluster_points = data[clusters == cluster]\n",
        "        centroid = np.mean(cluster_points, axis=0)\n",
        "        centroids[cluster] = centroid\n",
        "\n",
        "    return centroids"
      ],
      "metadata": {
        "id": "mL2871Can5zY"
      },
      "execution_count": 9,
      "outputs": []
    },
    {
      "cell_type": "code",
      "source": [
        "def k_means_clustering(data, k, max_iterations=100):\n",
        "    # Perform K-Means Clustering on the data\n",
        "    centroids = initialize_centroids(data, k)\n",
        "    prev_centroids = None\n",
        "    iterations = 0\n",
        "\n",
        "    while iterations < max_iterations and not np.array_equal(centroids, prev_centroids):\n",
        "        clusters = assign_clusters(data, centroids)\n",
        "        prev_centroids = centroids\n",
        "        centroids = update_centroids(data, clusters, k)\n",
        "        iterations += 1\n",
        "\n",
        "    return clusters, centroids"
      ],
      "metadata": {
        "id": "TWPjS7oGn-MN"
      },
      "execution_count": 10,
      "outputs": []
    },
    {
      "cell_type": "code",
      "source": [
        "def plot_clusters(data, clusters, centroids):\n",
        "    # Plot the data points and centroids based on the clusters\n",
        "    colors = ['r', 'g', 'b', 'c', 'm', 'y', 'k']\n",
        "    for cluster in range(len(np.unique(clusters))):\n",
        "        cluster_points = data[clusters == cluster]\n",
        "        plt.scatter(cluster_points[:, 0], cluster_points[:, 1], color=colors[cluster], label=f'Cluster {cluster + 1}')\n",
        "\n",
        "    plt.scatter(centroids[:, 0], centroids[:, 1], color='black', marker='*', label='Centroids')\n",
        "    plt.xlabel('Feature 1')\n",
        "    plt.ylabel('Feature 2')\n",
        "    plt.title('K-Means Clustering')\n",
        "    plt.legend()\n",
        "    plt.show()"
      ],
      "metadata": {
        "id": "1APmRhLjoDWZ"
      },
      "execution_count": 11,
      "outputs": []
    },
    {
      "cell_type": "code",
      "source": [
        "def calculate_covariance_matrix(data):\n",
        "    # Calculate the covariance matrix of the data\n",
        "    n = data.shape[0]\n",
        "    covariance_matrix = np.dot(data.T, data) / n\n",
        "    return covariance_matrix\n"
      ],
      "metadata": {
        "id": "Mnxd70D6oJEZ"
      },
      "execution_count": 12,
      "outputs": []
    },
    {
      "cell_type": "code",
      "source": [
        "def perform_pca(data):\n",
        "    # Perform Principal Component Analysis (PCA) on the data\n",
        "    # This function should return the eigenvectors and eigenvalues\n",
        "    # Example: Calculate the covariance matrix\n",
        "    covariance_matrix = calculate_covariance_matrix(data)\n",
        "\n",
        "    # Calculate the eigenvectors and eigenvalues\n",
        "    eigenvalues, eigenvectors = np.linalg.eig(covariance_matrix)\n",
        "\n",
        "    # Sort the eigenvalues and eigenvectors in descending order\n",
        "    sorted_indices = np.argsort(eigenvalues)[::-1]\n",
        "    eigenvalues = eigenvalues[sorted_indices]\n",
        "    eigenvectors = eigenvectors[:, sorted_indices]\n",
        "\n",
        "    return eigenvalues, eigenvectors"
      ],
      "metadata": {
        "id": "ux6BXteuoNRJ"
      },
      "execution_count": 13,
      "outputs": []
    },
    {
      "cell_type": "code",
      "source": [
        "def plot_pca(data, species, eigenvectors):\n",
        "    # Plot the data points in the first three eigenvectors\n",
        "    fig = plt.figure()\n",
        "    ax = fig.add_subplot(111, projection='3d')\n",
        "\n",
        "    # Map the species labels to colors\n",
        "    species_mapping = {label: i for i, label in enumerate(np.unique(species))}\n",
        "    colors = [species_mapping[label] for label in species]\n",
        "\n",
        "    # Project the data points onto the first three eigenvectors\n",
        "    projected_data = data.dot(eigenvectors[:, :3])\n",
        "\n",
        "    # Plot the data points\n",
        "    ax.scatter(projected_data[:, 0], projected_data[:, 1], projected_data[:, 2], c=colors, cmap='viridis')\n",
        "\n",
        "    # Add labels and title\n",
        "    ax.set_xlabel('PC1')\n",
        "    ax.set_ylabel('PC2')\n",
        "    ax.set_zlabel('PC3')\n",
        "    ax.set_title('Principal Component Analysis')\n",
        "\n",
        "    plt.show()"
      ],
      "metadata": {
        "id": "2BBCvcrYoXjX"
      },
      "execution_count": 14,
      "outputs": []
    },
    {
      "cell_type": "code",
      "source": [
        "def k_means_and_pca(dataset):\n",
        "    # Load the dataset\n",
        "    data = pd.read_csv(dataset)\n",
        "\n",
        "    # Preprocess the data\n",
        "    data_preprocessed, species = preprocess_data(data)\n",
        "\n",
        "    # Perform K-Means Clustering\n",
        "    clusters, centroids = k_means_clustering(data_preprocessed.values, k=3)\n",
        "\n",
        "    # Plot the clusters\n",
        "    plot_clusters(data_preprocessed.values, clusters, centroids)\n",
        "\n",
        "    # Perform PCA\n",
        "    eigenvalues, eigenvectors = perform_pca(data_preprocessed.values)\n",
        "\n",
        "    # Plot the PCA results\n",
        "    plot_pca(data_preprocessed.values, species.values, eigenvectors)\n",
        "\n",
        "    return clusters, eigenvectors\n",
        "\n",
        "\n",
        "# Example usage\n",
        "dataset = \"Iris Dataset.csv\"\n",
        "\n",
        "# Perform K-Means Clustering and PCA\n",
        "clusters, eigenvectors = k_means_and_pca(dataset)\n",
        "\n",
        "# Print the clusters and the first three eigenvectors\n",
        "print(\"Clusters:\", clusters)\n",
        "print(\"Eigenvectors:\")\n",
        "print(eigenvectors[:, :3])\n"
      ],
      "metadata": {
        "id": "JCH1zMEroeLR"
      },
      "execution_count": null,
      "outputs": []
    }
  ]
}